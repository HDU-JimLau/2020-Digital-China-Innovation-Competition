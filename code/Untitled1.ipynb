{
 "cells": [
  {
   "cell_type": "code",
   "execution_count": 1,
   "metadata": {
    "ExecuteTime": {
     "end_time": "2020-02-22T02:21:27.157641Z",
     "start_time": "2020-02-22T02:21:23.673542Z"
    }
   },
   "outputs": [],
   "source": [
    "import os\n",
    "import warnings\n",
    "\n",
    "import lightgbm as lgb\n",
    "import matplotlib.pyplot as plt\n",
    "import numpy as np\n",
    "import pandas as pd\n",
    "from gensim.models import Word2Vec\n",
    "from sklearn import metrics\n",
    "from sklearn.model_selection import StratifiedKFold\n",
    "from tqdm import tqdm\n",
    "\n",
    "warnings.filterwarnings('ignore')\n",
    "\n",
    "feature_path = \"./temp/input_origin/\"\n",
    "w2v_save_path = \"./temp/w2v/\"\n",
    "model_save_path = \"temp/model/\"\n",
    "os.makedirs(w2v_save_path,exist_ok=1)\n",
    "os.makedirs(model_save_path,exist_ok=1)\n"
   ]
  },
  {
   "cell_type": "code",
   "execution_count": 3,
   "metadata": {
    "ExecuteTime": {
     "end_time": "2020-02-22T02:21:41.460622Z",
     "start_time": "2020-02-22T02:21:41.455640Z"
    }
   },
   "outputs": [],
   "source": [
    "use_test =\"testB\"\n",
    "use_only_test = True"
   ]
  },
  {
   "cell_type": "code",
   "execution_count": 4,
   "metadata": {
    "ExecuteTime": {
     "end_time": "2020-02-22T02:21:44.538438Z",
     "start_time": "2020-02-22T02:21:41.820850Z"
    }
   },
   "outputs": [
    {
     "name": "stdout",
     "output_type": "stream",
     "text": [
      "---------------使用testB------------------------\n"
     ]
    }
   ],
   "source": [
    "train = pd.read_hdf(feature_path+'train.h5')\n",
    "if use_test == \"testA\":\n",
    "    print(\"---------------使用testA------------------------\")\n",
    "    test = pd.read_hdf(feature_path+'testA.h5')\n",
    "    all_data = pd.concat([train,test],axis=0)\n",
    "elif use_test == \"testB\":\n",
    "    print(\"---------------使用testB------------------------\")\n",
    "    test = pd.read_hdf(feature_path+'testB.h5')\n",
    "    all_data = pd.concat([train,test],axis=0)"
   ]
  },
  {
   "cell_type": "code",
   "execution_count": 5,
   "metadata": {
    "ExecuteTime": {
     "end_time": "2020-02-22T02:22:00.339621Z",
     "start_time": "2020-02-22T02:22:00.286763Z"
    }
   },
   "outputs": [],
   "source": [
    "LON1 = np.min(all_data.x)-1\n",
    "LON2 = np.max(all_data.x)+1\n",
    "LAT1 = np.min(all_data.y)-1\n",
    "LAT2 = np.max(all_data.y)+1"
   ]
  },
  {
   "cell_type": "code",
   "execution_count": 6,
   "metadata": {
    "ExecuteTime": {
     "end_time": "2020-02-22T02:22:10.684593Z",
     "start_time": "2020-02-22T02:22:10.676615Z"
    }
   },
   "outputs": [
    {
     "data": {
      "text/plain": [
       "(5000248.625693836, 7133786.482740336, 3345432.07253926, 7667581.57052392)"
      ]
     },
     "execution_count": 6,
     "metadata": {},
     "output_type": "execute_result"
    }
   ],
   "source": []
  },
  {
   "cell_type": "code",
   "execution_count": null,
   "metadata": {},
   "outputs": [],
   "source": [
    "python datapre.py\n",
    "Feature_Engineering_base.py\n",
    "Feature_Engineering_bin.py\n",
    "Feature_Engineering_w2v.py\n",
    "python main.py"
   ]
  },
  {
   "cell_type": "code",
   "execution_count": 8,
   "metadata": {
    "ExecuteTime": {
     "end_time": "2020-02-22T02:39:46.022524Z",
     "start_time": "2020-02-22T02:39:46.019477Z"
    }
   },
   "outputs": [],
   "source": [
    "\n",
    "from datapre import main_datapre\n",
    "from Feature_Engineering_base import main_base\n",
    "from Feature_Engineering_w2v import main_w2v\n",
    "from Feature_Engineering_bin import main_bin\n",
    "from get_all_feature  import output_finally_test_feature\n",
    "\n",
    "main_datapre()\n",
    "main_base()\n",
    "main_w2v()\n",
    "main_bin()\n",
    "output_finally_test_feature()"
   ]
  },
  {
   "cell_type": "code",
   "execution_count": null,
   "metadata": {},
   "outputs": [],
   "source": []
  },
  {
   "cell_type": "code",
   "execution_count": null,
   "metadata": {},
   "outputs": [],
   "source": [
    "output_finally_test_feature()"
   ]
  },
  {
   "cell_type": "code",
   "execution_count": null,
   "metadata": {},
   "outputs": [],
   "source": []
  }
 ],
 "metadata": {
  "kernelspec": {
   "display_name": "Python 3",
   "language": "python",
   "name": "python3"
  },
  "language_info": {
   "codemirror_mode": {
    "name": "ipython",
    "version": 3
   },
   "file_extension": ".py",
   "mimetype": "text/x-python",
   "name": "python",
   "nbconvert_exporter": "python",
   "pygments_lexer": "ipython3",
   "version": "3.7.4"
  },
  "toc": {
   "base_numbering": 1,
   "nav_menu": {},
   "number_sections": true,
   "sideBar": true,
   "skip_h1_title": false,
   "title_cell": "Table of Contents",
   "title_sidebar": "Contents",
   "toc_cell": false,
   "toc_position": {},
   "toc_section_display": true,
   "toc_window_display": false
  }
 },
 "nbformat": 4,
 "nbformat_minor": 2
}
